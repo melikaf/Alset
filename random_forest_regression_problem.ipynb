{
  "nbformat": 4,
  "nbformat_minor": 0,
  "metadata": {
    "colab": {
      "name": "random_forest_regression_problem.ipynb",
      "version": "0.3.2",
      "provenance": [],
      "collapsed_sections": []
    },
    "kernelspec": {
      "name": "python3",
      "display_name": "Python 3"
    }
  },
  "cells": [
    {
      "metadata": {
        "id": "ssvgIbZ0FrHl",
        "colab_type": "text"
      },
      "cell_type": "markdown",
      "source": [
        "\n",
        "#Random Forest Regression"
      ]
    },
    {
      "metadata": {
        "id": "VHN4nfVRPiKm",
        "colab_type": "text"
      },
      "cell_type": "markdown",
      "source": [
        "We already read about Random Forest algorithm in Random Forest section. There is a minor different between Random Forest Classifier and Random Forest Regression. The following are the basic steps involved in performing the random forest regression:\n",
        "\n",
        "*  Pick N random records from the dataset.\n",
        "*  Build a decision tree based on these N records.\n",
        "*  Choose the number of trees you want in your algorithm and repeat steps 1 and 2.\n",
        "*  In case of a regression problem, for a new record, each tree in the forest predicts a value for Y (output). The final value can be calculated by taking the average of all the values predicted by all the trees in forest.\n",
        "\n",
        "\n",
        "The Random Forest Regression has implemented in sklearn library and here is a simple sample of using that:\n",
        "\n",
        "    regressor = RandomForestRegressor(n_estimators = 10)\n",
        "    regressor.fit(x, y)\n",
        "    \n",
        "You can also find more about the classifier parametrs [here](https://scikit-learn.org/stable/modules/generated/sklearn.ensemble.RandomForestRegressor.html).\n",
        "\n",
        "---\n",
        "\n",
        "Now is your turn!\n",
        "\n",
        "Change the random_forest_regressor_function to takes in an a training set (x,y) and return a decision tree regressor based on the input. Don't forget normalization!\n"
      ]
    },
    {
      "metadata": {
        "id": "Lh2qEJ6UTl4_",
        "colab_type": "code",
        "colab": {}
      },
      "cell_type": "code",
      "source": [
        "#problem\n",
        "def random_forest_regressor_function(x, y):\n",
        "  #from sklearn.ensemble import RandomForestRegressor\n",
        "  #Build the regressor and return it\n",
        "  return"
      ],
      "execution_count": 0,
      "outputs": []
    },
    {
      "metadata": {
        "colab_type": "code",
        "id": "PHwPWXxNFxct",
        "colab": {}
      },
      "cell_type": "code",
      "source": [
        "def warn(*args, **kwargs):\n",
        "    pass\n",
        "import warnings\n",
        "warnings.warn = warn\n",
        "from sklearn.metrics import mean_squared_error\n",
        "import pandas as pd\n",
        "import numpy as np\n",
        "import matplotlib.pyplot as plt\n",
        "%matplotlib inline \n",
        "from sklearn.model_selection import train_test_split\n",
        "\n",
        "\n",
        "from sklearn import datasets\n",
        "df = pd.read_csv('https://docs.google.com/spreadsheets/d/1w1ykc27-yEGMQEbT93JMH66n3uu07di1dCg6B-saYRI/gviz/tq?tqx=out:csv&sheet=personal_data')\n",
        "x = df.iloc[:, :-1].values\n",
        "y = df.iloc[:, -1:].values\n",
        "from sklearn.preprocessing import StandardScaler\n",
        "\n",
        "x_train, x_test, y_train, y_test = train_test_split(x, y, test_size=.2, random_state=5685)\n",
        "model = random_forest_regressor_function(x_train, y_train)\n",
        "sc = StandardScaler()\n",
        "x_test = sc.fit_transform(x_test)\n",
        "prediction = model.predict(x_test)\n",
        "error = mean_squared_error(y_test, prediction)\n",
        "x = sc.fit_transform(x)\n",
        "#the plot begins \n",
        "\n",
        "x_grid = np.arange(min(x), max(x), 0.1)\n",
        "x_grid = x_grid.reshape((len(x_grid), 1))\n",
        "plt.scatter(x, y, color = 'red')\n",
        "plt.plot(x_grid, model.predict(x_grid), color = 'blue')\n",
        "\n",
        "plt.show()"
      ],
      "execution_count": 0,
      "outputs": []
    },
    {
      "metadata": {
        "colab_type": "code",
        "id": "AHHLY-uaFxdD",
        "colab": {}
      },
      "cell_type": "code",
      "source": [
        "assert error <= .110,'Please Try again with a different kernel'"
      ],
      "execution_count": 0,
      "outputs": []
    }
  ]
}
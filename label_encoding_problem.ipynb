{
  "nbformat": 4,
  "nbformat_minor": 0,
  "metadata": {
    "colab": {
      "name": "label_encoding_problem.ipynb",
      "version": "0.3.2",
      "provenance": [],
      "collapsed_sections": []
    },
    "kernelspec": {
      "name": "python3",
      "display_name": "Python 3"
    }
  },
  "cells": [
    {
      "metadata": {
        "id": "EN3lYppxuLys",
        "colab_type": "text"
      },
      "cell_type": "markdown",
      "source": [
        "# Label Encoding\n",
        "\n"
      ]
    },
    {
      "metadata": {
        "id": "cGRXsxwcE_HX",
        "colab_type": "text"
      },
      "cell_type": "markdown",
      "source": [
        "Sometimes we should convert categorical data, or text data, into numbers, which our predictive models can better understand. There are some classes in sklearn library that have some useful functions for Label Encoding. Here is a simple sample of using them:\n",
        "\n",
        "```\n",
        "from sklearn.preprocessing import LabelEncoder\n",
        "encoder = LabelEncoder()\n",
        "groups_encoded = encoder.fit_transform(groups)\n",
        "```\n",
        "\n",
        "\n",
        "---\n",
        "\n",
        "Now is your turn!\n",
        "\n",
        "Fill cities_encoded with the encoded values of cities list.\n"
      ]
    },
    {
      "metadata": {
        "id": "vVnuOJrdG1Fk",
        "colab_type": "code",
        "colab": {}
      },
      "cell_type": "code",
      "source": [
        "#Problem\n",
        "from sklearn.preprocessing import LabelEncoder\n",
        "cities = ['New York','London','Hong Kong','Singapore','Frankfurt', 'Toronto', 'Hong Kong', 'Frankfurt','New York','Toronto','Singapore','London']\n",
        "cities_encoded = []"
      ],
      "execution_count": 0,
      "outputs": []
    },
    {
      "metadata": {
        "id": "EBhuLwEVG06D",
        "colab_type": "code",
        "colab": {}
      },
      "cell_type": "code",
      "source": [
        "#Test Cases\n",
        "#say cheese"
      ],
      "execution_count": 0,
      "outputs": []
    },
    {
      "metadata": {
        "id": "pZ3XwO9II8KQ",
        "colab_type": "code",
        "colab": {}
      },
      "cell_type": "code",
      "source": [
        "assert cities_encoded is not None, \"No Encoding Found\"\n",
        "assert cities_encoded[1]==cities_encoded[-1], \"Not One Hot encoded\""
      ],
      "execution_count": 0,
      "outputs": []
    }
  ]
}
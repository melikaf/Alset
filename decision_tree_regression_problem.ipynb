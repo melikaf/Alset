{
  "nbformat": 4,
  "nbformat_minor": 0,
  "metadata": {
    "colab": {
      "name": "decision_tree_regression_problem.ipynb",
      "version": "0.3.2",
      "provenance": [],
      "collapsed_sections": []
    },
    "kernelspec": {
      "name": "python3",
      "display_name": "Python 3"
    }
  },
  "cells": [
    {
      "metadata": {
        "id": "W29bqapK5juz",
        "colab_type": "text"
      },
      "cell_type": "markdown",
      "source": [
        "\n",
        "# Decision Tree Regressor\n"
      ]
    },
    {
      "metadata": {
        "id": "-HSuNIhbWTEJ",
        "colab_type": "text"
      },
      "cell_type": "markdown",
      "source": [
        "We already saw how how decision trees work in decision tree classifier section. There are some differences between decision tree classifier and regressor. The main different is that the regression trees are leveraged in case where the response variable is either continuous or numeric, but not categorical. Regression trees can be applied in case of prices, quantities, or data involving quantities etc.\n",
        "\n",
        "The decision tree regressor has implemented in sklearn library and here is a simple sample of using that:\n",
        "\n",
        "    from sklearn.tree import DecisionTreeClassifier\n",
        "    regressor = DecisionTreeClassifier()\n",
        "    regressor.fit(x,y) #build the decision tree classifier based on the training set (x,y).\n",
        "    \n",
        "    \n",
        "You can also find more about the regressor parametrs [here](https://scikit-learn.org/stable/modules/generated/sklearn.tree.DecisionTreeRegressor.html).\n",
        "\n",
        "---\n",
        "\n",
        "Now is your turn!\n",
        "\n",
        "Change the decision_tree_regressor_function to takes in an a training set (x,y) and return a decision tree classifier based on the input. Don't forget normalization!\n",
        "\n",
        "\n"
      ]
    },
    {
      "metadata": {
        "colab_type": "code",
        "id": "kMqRHUyY5pgC",
        "colab": {}
      },
      "cell_type": "code",
      "source": [
        "#problem\n",
        "def decision_tree_regressor_function(x, y):\n",
        "  #from sklearn.tree import DecisionTreeRegressor\n",
        "  #Build the regressor and return it\n",
        "  return"
      ],
      "execution_count": 0,
      "outputs": []
    },
    {
      "metadata": {
        "colab_type": "code",
        "id": "KPcKbzgC5pga",
        "colab": {}
      },
      "cell_type": "code",
      "source": [
        "# Tests \n",
        "def warn(*args, **kwargs):\n",
        "    pass\n",
        "import warnings\n",
        "warnings.warn = warn\n",
        "from sklearn.metrics import mean_squared_error\n",
        "import pandas as pd\n",
        "import numpy as np\n",
        "import matplotlib.pyplot as plt\n",
        "%matplotlib inline \n",
        "from sklearn.model_selection import train_test_split\n",
        "\n",
        "\n",
        "from sklearn import datasets\n",
        "df = pd.read_csv('https://docs.google.com/spreadsheets/d/1w1ykc27-yEGMQEbT93JMH66n3uu07di1dCg6B-saYRI/gviz/tq?tqx=out:csv&sheet=personal_data')\n",
        "x = df.iloc[:, :-1].values\n",
        "y = df.iloc[:, -1:].values\n",
        "from sklearn.preprocessing import StandardScaler\n",
        "\n",
        "x_train, x_test, y_train, y_test = train_test_split(x, y, test_size=.2, random_state=5685)\n",
        "model = decision_tree_regressor_function(x_train, y_train)\n",
        "sc = StandardScaler()\n",
        "x_train = sc.fit_transform(x_train)\n",
        "x_test = sc.fit_transform(x_test)\n",
        "prediction = model.predict(x_test)\n",
        "error = mean_squared_error(y_test, prediction)\n",
        "x = sc.fit_transform(x)\n",
        "#the plot begins \n",
        "\n",
        "x_grid = np.arange(min(x), max(x), 0.1)\n",
        "x_grid = x_grid.reshape((len(x_grid), 1))\n",
        "plt.scatter(x, y, color = 'red')\n",
        "plt.plot(x_grid, model.predict(x_grid), color = 'blue')\n",
        "\n",
        "plt.show()"
      ],
      "execution_count": 0,
      "outputs": []
    },
    {
      "metadata": {
        "colab_type": "code",
        "id": "hS5dSBgm5pg9",
        "colab": {}
      },
      "cell_type": "code",
      "source": [
        "assert error <= 0.135,'Please Try again with a different kernel'"
      ],
      "execution_count": 0,
      "outputs": []
    }
  ]
}